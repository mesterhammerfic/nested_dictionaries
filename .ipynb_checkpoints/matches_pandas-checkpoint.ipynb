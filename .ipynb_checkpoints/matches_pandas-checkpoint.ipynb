{
 "cells": [
  {
   "cell_type": "code",
<<<<<<< HEAD
   "execution_count": null,
   "metadata": {},
   "outputs": [],
   "source": []
=======
   "execution_count": 153,
   "metadata": {},
   "outputs": [],
   "source": [
    "import pandas as pd\n",
    "import re"
   ]
  },
  {
   "cell_type": "markdown",
   "metadata": {},
   "source": [
    "Our data set is composed of two columns: the name  of a Brazilian Jiu Jitsu competitor and a list of dictionaries where each dictionary represents a match."
   ]
  },
  {
   "cell_type": "code",
   "execution_count": 154,
   "metadata": {},
   "outputs": [
    {
     "data": {
      "text/html": [
       "<div>\n",
       "<style scoped>\n",
       "    .dataframe tbody tr th:only-of-type {\n",
       "        vertical-align: middle;\n",
       "    }\n",
       "\n",
       "    .dataframe tbody tr th {\n",
       "        vertical-align: top;\n",
       "    }\n",
       "\n",
       "    .dataframe thead th {\n",
       "        text-align: right;\n",
       "    }\n",
       "</style>\n",
       "<table border=\"1\" class=\"dataframe\">\n",
       "  <thead>\n",
       "    <tr style=\"text-align: right;\">\n",
       "      <th></th>\n",
       "      <th>matches</th>\n",
       "      <th>name</th>\n",
       "    </tr>\n",
       "  </thead>\n",
       "  <tbody>\n",
       "    <tr>\n",
       "      <th>0</th>\n",
       "      <td>[{'method': 'Inside heel hook', 'outcome': 'L'...</td>\n",
       "      <td>Aaron Johnson</td>\n",
       "    </tr>\n",
       "    <tr>\n",
       "      <th>1</th>\n",
       "      <td>[{'method': 'Referee Decision', 'outcome': 'L'...</td>\n",
       "      <td>Abdurakhman Bilarov</td>\n",
       "    </tr>\n",
       "    <tr>\n",
       "      <th>2</th>\n",
       "      <td>[{'method': 'Adv', 'outcome': 'L', 'weight': '...</td>\n",
       "      <td>Abraham Marte</td>\n",
       "    </tr>\n",
       "    <tr>\n",
       "      <th>3</th>\n",
       "      <td>[{'method': 'Referee Decision', 'outcome': 'L'...</td>\n",
       "      <td>Adam Benayoun</td>\n",
       "    </tr>\n",
       "    <tr>\n",
       "      <th>4</th>\n",
       "      <td>[{'method': 'RNC', 'outcome': 'L', 'weight': '...</td>\n",
       "      <td>Adam Ferrara</td>\n",
       "    </tr>\n",
       "  </tbody>\n",
       "</table>\n",
       "</div>"
      ],
      "text/plain": [
       "                                             matches                 name\n",
       "0  [{'method': 'Inside heel hook', 'outcome': 'L'...        Aaron Johnson\n",
       "1  [{'method': 'Referee Decision', 'outcome': 'L'...  Abdurakhman Bilarov\n",
       "2  [{'method': 'Adv', 'outcome': 'L', 'weight': '...        Abraham Marte\n",
       "3  [{'method': 'Referee Decision', 'outcome': 'L'...        Adam Benayoun\n",
       "4  [{'method': 'RNC', 'outcome': 'L', 'weight': '...         Adam Ferrara"
      ]
     },
     "execution_count": 154,
     "metadata": {},
     "output_type": "execute_result"
    }
   ],
   "source": [
    "df = pd.read_json('bjjheroes_matches.json')\n",
    "df.head()"
   ]
  },
  {
   "cell_type": "markdown",
   "metadata": {},
   "source": [
    "We can access the list of matches for the first fighter, and while we're at it we can turn that into a data frame too (we'll assign it to the variable df0 because it's the entry at index 0)."
   ]
  },
  {
   "cell_type": "code",
   "execution_count": 155,
   "metadata": {},
   "outputs": [
    {
     "name": "stdout",
     "output_type": "stream",
     "text": [
      "[{'method': 'Inside heel hook', 'outcome': 'L', 'weight': 'ABS', 'year': '2015'}, {'method': 'RNC', 'outcome': 'L', 'weight': '94KG', 'year': '2015'}, {'method': 'Heel hook', 'outcome': 'L', 'weight': 'ABS', 'year': '2015'}, {'method': 'Points', 'outcome': 'L', 'weight': '94KG', 'year': '2016'}, {'method': 'N/A', 'outcome': 'L', 'weight': '94KG', 'year': '2016'}, {'method': 'Cross choke', 'outcome': 'L', 'weight': 'HWABS', 'year': '2016'}, {'method': 'Choke', 'outcome': 'L', 'weight': 'ABS', 'year': '2016'}, {'method': 'Triangle', 'outcome': 'L', 'weight': '100KG', 'year': '2016'}, {'method': 'Triangle armbar', 'outcome': 'L', 'weight': 'ABS', 'year': '2016'}, {'method': 'Choke from back', 'outcome': 'L', 'weight': 'ABS', 'year': '2016'}]\n"
     ]
    },
    {
     "data": {
      "text/html": [
       "<div>\n",
       "<style scoped>\n",
       "    .dataframe tbody tr th:only-of-type {\n",
       "        vertical-align: middle;\n",
       "    }\n",
       "\n",
       "    .dataframe tbody tr th {\n",
       "        vertical-align: top;\n",
       "    }\n",
       "\n",
       "    .dataframe thead th {\n",
       "        text-align: right;\n",
       "    }\n",
       "</style>\n",
       "<table border=\"1\" class=\"dataframe\">\n",
       "  <thead>\n",
       "    <tr style=\"text-align: right;\">\n",
       "      <th></th>\n",
       "      <th>method</th>\n",
       "      <th>outcome</th>\n",
       "      <th>weight</th>\n",
       "      <th>year</th>\n",
       "    </tr>\n",
       "  </thead>\n",
       "  <tbody>\n",
       "    <tr>\n",
       "      <th>0</th>\n",
       "      <td>Inside heel hook</td>\n",
       "      <td>L</td>\n",
       "      <td>ABS</td>\n",
       "      <td>2015</td>\n",
       "    </tr>\n",
       "    <tr>\n",
       "      <th>1</th>\n",
       "      <td>RNC</td>\n",
       "      <td>L</td>\n",
       "      <td>94KG</td>\n",
       "      <td>2015</td>\n",
       "    </tr>\n",
       "    <tr>\n",
       "      <th>2</th>\n",
       "      <td>Heel hook</td>\n",
       "      <td>L</td>\n",
       "      <td>ABS</td>\n",
       "      <td>2015</td>\n",
       "    </tr>\n",
       "    <tr>\n",
       "      <th>3</th>\n",
       "      <td>Points</td>\n",
       "      <td>L</td>\n",
       "      <td>94KG</td>\n",
       "      <td>2016</td>\n",
       "    </tr>\n",
       "    <tr>\n",
       "      <th>4</th>\n",
       "      <td>N/A</td>\n",
       "      <td>L</td>\n",
       "      <td>94KG</td>\n",
       "      <td>2016</td>\n",
       "    </tr>\n",
       "    <tr>\n",
       "      <th>5</th>\n",
       "      <td>Cross choke</td>\n",
       "      <td>L</td>\n",
       "      <td>HWABS</td>\n",
       "      <td>2016</td>\n",
       "    </tr>\n",
       "    <tr>\n",
       "      <th>6</th>\n",
       "      <td>Choke</td>\n",
       "      <td>L</td>\n",
       "      <td>ABS</td>\n",
       "      <td>2016</td>\n",
       "    </tr>\n",
       "    <tr>\n",
       "      <th>7</th>\n",
       "      <td>Triangle</td>\n",
       "      <td>L</td>\n",
       "      <td>100KG</td>\n",
       "      <td>2016</td>\n",
       "    </tr>\n",
       "    <tr>\n",
       "      <th>8</th>\n",
       "      <td>Triangle armbar</td>\n",
       "      <td>L</td>\n",
       "      <td>ABS</td>\n",
       "      <td>2016</td>\n",
       "    </tr>\n",
       "    <tr>\n",
       "      <th>9</th>\n",
       "      <td>Choke from back</td>\n",
       "      <td>L</td>\n",
       "      <td>ABS</td>\n",
       "      <td>2016</td>\n",
       "    </tr>\n",
       "  </tbody>\n",
       "</table>\n",
       "</div>"
      ],
      "text/plain": [
       "             method outcome weight  year\n",
       "0  Inside heel hook       L    ABS  2015\n",
       "1               RNC       L   94KG  2015\n",
       "2         Heel hook       L    ABS  2015\n",
       "3            Points       L   94KG  2016\n",
       "4               N/A       L   94KG  2016\n",
       "5       Cross choke       L  HWABS  2016\n",
       "6             Choke       L    ABS  2016\n",
       "7          Triangle       L  100KG  2016\n",
       "8   Triangle armbar       L    ABS  2016\n",
       "9   Choke from back       L    ABS  2016"
      ]
     },
     "execution_count": 155,
     "metadata": {},
     "output_type": "execute_result"
    }
   ],
   "source": [
    "print(df.loc[0, 'matches'][:10])\n",
    "df0 = pd.DataFrame(df.loc[0, 'matches'])\n",
    "df0.head(10)"
   ]
  },
  {
   "cell_type": "markdown",
   "metadata": {},
   "source": [
    "I can measure the percentage of wins for this fighter by sorting out all wins and dividing them by the total number of matches. "
   ]
  },
  {
   "cell_type": "code",
   "execution_count": 156,
   "metadata": {},
   "outputs": [
    {
     "name": "stdout",
     "output_type": "stream",
     "text": [
      "0.5462184873949579\n"
     ]
    }
   ],
   "source": [
    "wins = df0[df0['outcome'] == 'W']\n",
    "test_win_percent = len(wins)/len(df0)\n",
    "print(test_win_percent)"
   ]
  },
  {
   "cell_type": "markdown",
   "metadata": {},
   "source": [
    "We'll turn this into a function so that we can reuse it for other fighters."
   ]
  },
  {
   "cell_type": "code",
   "execution_count": 165,
   "metadata": {},
   "outputs": [
    {
     "name": "stdout",
     "output_type": "stream",
     "text": [
      "True\n"
     ]
    }
   ],
   "source": [
    "def calculate_win_percent(matches_df):\n",
    "    wins = matches_df[matches_df['outcome'] == 'W']\n",
    "    return len(wins)/len(matches_df)\n",
    "print(calculate_win_percent(df0) == test_win_percent)"
   ]
  },
  {
   "cell_type": "markdown",
   "metadata": {},
   "source": [
    "Now I want to calculate how many wins came by submission vs any other method (Decision, DQ, Points, etc). To do this, I need to figure out what all the possible method labels are and make a list of the non-submission methods so that I can separate those matches out."
   ]
  },
  {
   "cell_type": "code",
   "execution_count": 158,
   "metadata": {},
   "outputs": [
    {
     "data": {
      "text/plain": [
       "0        Inside heel hook\n",
       "1                     RNC\n",
       "2               Heel hook\n",
       "3                  Points\n",
       "4                     N/A\n",
       "5             Cross choke\n",
       "6                   Choke\n",
       "7                Triangle\n",
       "8         Triangle armbar\n",
       "9         Choke from back\n",
       "10      Arm in guillotine\n",
       "11              Pts: 19x0\n",
       "12              Pts: 10x0\n",
       "13               Pts: 4x2\n",
       "14                Botinha\n",
       "15            Brabo choke\n",
       "16            Calf slicer\n",
       "17       Reverse triangle\n",
       "18               Pts: 2x0\n",
       "19          Pts: 0x0, Adv\n",
       "20                     DQ\n",
       "21               Pts: 7x2\n",
       "22       Referee Decision\n",
       "23               Pts: 6x0\n",
       "24               Pts: 5x0\n",
       "25              Pts: 34x0\n",
       "26              Pts: 15x0\n",
       "27               Pts: 6x1\n",
       "28              Pts: 11x0\n",
       "29               Pts: 3x0\n",
       "30                 EBI/OT\n",
       "31             Katagatame\n",
       "32               Toe hold\n",
       "33    Straight ankle lock\n",
       "34          Flying armbar\n",
       "35             Submission\n",
       "36               Pts: 7x6\n",
       "37                 Armbar\n",
       "38               Pts: 4x0\n",
       "39                Kneebar\n",
       "40                    Adv\n",
       "41               Footlock\n",
       "42              Pts: 10x2\n",
       "43               Pts: 1x0\n",
       "44                    ---\n",
       "45          Mounted choke\n",
       "46                Armlock\n",
       "47                 Kimura\n",
       "48    Straignt ankle lock\n",
       "dtype: object"
      ]
     },
     "execution_count": 158,
     "metadata": {},
     "output_type": "execute_result"
    }
   ],
   "source": [
    "all_methods = df0['method'].unique()\n",
    "all_methods = pd.Series(all_methods)\n",
    "all_methods"
   ]
  },
  {
   "cell_type": "markdown",
   "metadata": {},
   "source": [
    "First we'll use pandas built in regular expressions methods to filter out all the outcomes with the 'Pts' at the begining and set this as our submission_methods series."
   ]
  },
  {
   "cell_type": "code",
   "execution_count": 159,
   "metadata": {},
   "outputs": [
    {
     "name": "stdout",
     "output_type": "stream",
     "text": [
      "32\n",
      "0        Inside heel hook\n",
      "1                     RNC\n",
      "2               Heel hook\n",
      "3                  Points\n",
      "4                     N/A\n",
      "5             Cross choke\n",
      "6                   Choke\n",
      "7                Triangle\n",
      "8         Triangle armbar\n",
      "9         Choke from back\n",
      "10      Arm in guillotine\n",
      "14                Botinha\n",
      "15            Brabo choke\n",
      "16            Calf slicer\n",
      "17       Reverse triangle\n",
      "20                     DQ\n",
      "22       Referee Decision\n",
      "30                 EBI/OT\n",
      "31             Katagatame\n",
      "32               Toe hold\n",
      "33    Straight ankle lock\n",
      "34          Flying armbar\n",
      "35             Submission\n",
      "37                 Armbar\n",
      "39                Kneebar\n",
      "40                    Adv\n",
      "41               Footlock\n",
      "44                    ---\n",
      "45          Mounted choke\n",
      "46                Armlock\n",
      "47                 Kimura\n",
      "48    Straignt ankle lock\n",
      "dtype: object\n"
     ]
    }
   ],
   "source": [
    "submission_methods = all_methods[all_methods.str.match('^Pts.*')== False]\n",
    "print(len(submission_methods))\n",
    "print(submission_methods)"
   ]
  },
  {
   "cell_type": "markdown",
   "metadata": {},
   "source": [
    "There are still a lot of non-submission methods left in our submission_methods series, so we'll take a look at what's left and repeat the previous step to filter out each of those. To save time, we can put each regular expressions pattern in parentheses and chain them together with a pipe '|'."
   ]
  },
  {
   "cell_type": "code",
   "execution_count": 160,
   "metadata": {},
   "outputs": [
    {
     "name": "stdout",
     "output_type": "stream",
     "text": [
      "25\n",
      "0        Inside heel hook\n",
      "1                     RNC\n",
      "2               Heel hook\n",
      "5             Cross choke\n",
      "6                   Choke\n",
      "7                Triangle\n",
      "8         Triangle armbar\n",
      "9         Choke from back\n",
      "10      Arm in guillotine\n",
      "14                Botinha\n",
      "15            Brabo choke\n",
      "16            Calf slicer\n",
      "17       Reverse triangle\n",
      "31             Katagatame\n",
      "32               Toe hold\n",
      "33    Straight ankle lock\n",
      "34          Flying armbar\n",
      "35             Submission\n",
      "37                 Armbar\n",
      "39                Kneebar\n",
      "41               Footlock\n",
      "45          Mounted choke\n",
      "46                Armlock\n",
      "47                 Kimura\n",
      "48    Straignt ankle lock\n",
      "dtype: object\n"
     ]
    }
   ],
   "source": [
    "submission_methods = submission_methods[submission_methods.str.match('(^Pts.*)|(.*OT)|(Adv)|(N/A)|(DQ)|(.*Decision)|(--)|(Points)')== False]\n",
    "print(len(submission_methods))\n",
    "print(submission_methods)"
   ]
  },
  {
   "cell_type": "markdown",
   "metadata": {},
   "source": [
    "Now we need to take our list of wins and filter the 'methods' column the same way we filterd our series of methods above. Because many of the methods work on both pd.Series and pd.DataFrame, we can copy and paste the operations onto our wins\\['methods'\\] and it will remove any non-submission victories. Then we divide that number by the total number of wins, giving us our win-by-submission rate."
   ]
  },
  {
   "cell_type": "code",
   "execution_count": 164,
   "metadata": {},
   "outputs": [
    {
     "name": "stdout",
     "output_type": "stream",
     "text": [
      "0.6615384615384615\n"
     ]
    }
   ],
   "source": [
    "submission_wins = wins[wins['method'].str.match('(^Pts.*)|(.*OT)|(Adv)|(N/A)|(DQ)|(.*Decision)|(--)|(Points)')== False]\n",
    "test_sub_win_percent = len(submission_wins)/len(wins)\n",
    "print(test_sub_win_percent)"
   ]
  },
  {
   "cell_type": "markdown",
   "metadata": {},
   "source": [
    "Now We'll turn this into a function as well."
   ]
  },
  {
   "cell_type": "code",
   "execution_count": 167,
   "metadata": {},
   "outputs": [
    {
     "name": "stdout",
     "output_type": "stream",
     "text": [
      "True\n"
     ]
    }
   ],
   "source": [
    "def calculate_sub_win_percent(matches_df):\n",
    "    wins = matches_df[matches_df['outcome'] == 'W']\n",
    "    submission_wins = wins[wins['method'].str.match('(^Pts.*)|(.*OT)|(Adv)|(N/A)|(DQ)|(.*Decision)|(--)|(Points)')== False]\n",
    "    return len(submission_wins)/len(wins)\n",
    "\n",
    "print(calculate_sub_win_percent(df0) == test_sub_win_percent)"
   ]
>>>>>>> 47b9fab629cac12c551355a324f4017f148ccd15
  }
 ],
 "metadata": {
  "kernelspec": {
   "display_name": "Python 3",
   "language": "python",
   "name": "python3"
  },
  "language_info": {
   "codemirror_mode": {
    "name": "ipython",
    "version": 3
   },
   "file_extension": ".py",
   "mimetype": "text/x-python",
   "name": "python",
   "nbconvert_exporter": "python",
   "pygments_lexer": "ipython3",
<<<<<<< HEAD
   "version": "3.7.6"
=======
   "version": "3.8.2"
>>>>>>> 47b9fab629cac12c551355a324f4017f148ccd15
  }
 },
 "nbformat": 4,
 "nbformat_minor": 4
}
