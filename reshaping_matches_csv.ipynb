{
 "cells": [
  {
   "cell_type": "code",
   "execution_count": 1,
   "metadata": {},
   "outputs": [],
   "source": [
    "import pandas as pd\n",
    "import matplotlib as plt\n",
    "import seaborn as sns"
   ]
  },
  {
   "cell_type": "markdown",
   "metadata": {},
   "source": [
    "I want to add more stats for each individual fighter. I'll start with a simple win percentage stat.\n",
    "\n",
    "To start I'll make another column called 'outcome_binary' which shows a 1 if the fighter won or a 0 for all other outcomes (draws and losses)."
   ]
  },
  {
   "cell_type": "code",
   "execution_count": 2,
   "metadata": {},
   "outputs": [
    {
     "data": {
      "text/html": [
       "<div>\n",
       "<style scoped>\n",
       "    .dataframe tbody tr th:only-of-type {\n",
       "        vertical-align: middle;\n",
       "    }\n",
       "\n",
       "    .dataframe tbody tr th {\n",
       "        vertical-align: top;\n",
       "    }\n",
       "\n",
       "    .dataframe thead th {\n",
       "        text-align: right;\n",
       "    }\n",
       "</style>\n",
       "<table border=\"1\" class=\"dataframe\">\n",
       "  <thead>\n",
       "    <tr style=\"text-align: right;\">\n",
       "      <th></th>\n",
       "      <th>method</th>\n",
       "      <th>outcome</th>\n",
       "      <th>weight</th>\n",
       "      <th>year</th>\n",
       "      <th>name</th>\n",
       "      <th>outcome_binary</th>\n",
       "    </tr>\n",
       "  </thead>\n",
       "  <tbody>\n",
       "    <tr>\n",
       "      <th>0</th>\n",
       "      <td>Inside heel hook</td>\n",
       "      <td>L</td>\n",
       "      <td>ABS</td>\n",
       "      <td>2015</td>\n",
       "      <td>Aaron Johnson</td>\n",
       "      <td>0</td>\n",
       "    </tr>\n",
       "    <tr>\n",
       "      <th>1</th>\n",
       "      <td>RNC</td>\n",
       "      <td>L</td>\n",
       "      <td>94KG</td>\n",
       "      <td>2015</td>\n",
       "      <td>Aaron Johnson</td>\n",
       "      <td>0</td>\n",
       "    </tr>\n",
       "    <tr>\n",
       "      <th>2</th>\n",
       "      <td>Heel hook</td>\n",
       "      <td>L</td>\n",
       "      <td>ABS</td>\n",
       "      <td>2015</td>\n",
       "      <td>Aaron Johnson</td>\n",
       "      <td>0</td>\n",
       "    </tr>\n",
       "    <tr>\n",
       "      <th>3</th>\n",
       "      <td>Points</td>\n",
       "      <td>L</td>\n",
       "      <td>94KG</td>\n",
       "      <td>2016</td>\n",
       "      <td>Aaron Johnson</td>\n",
       "      <td>0</td>\n",
       "    </tr>\n",
       "    <tr>\n",
       "      <th>4</th>\n",
       "      <td>NaN</td>\n",
       "      <td>L</td>\n",
       "      <td>94KG</td>\n",
       "      <td>2016</td>\n",
       "      <td>Aaron Johnson</td>\n",
       "      <td>0</td>\n",
       "    </tr>\n",
       "  </tbody>\n",
       "</table>\n",
       "</div>"
      ],
      "text/plain": [
       "             method outcome weight  year           name  outcome_binary\n",
       "0  Inside heel hook       L    ABS  2015  Aaron Johnson               0\n",
       "1               RNC       L   94KG  2015  Aaron Johnson               0\n",
       "2         Heel hook       L    ABS  2015  Aaron Johnson               0\n",
       "3            Points       L   94KG  2016  Aaron Johnson               0\n",
       "4               NaN       L   94KG  2016  Aaron Johnson               0"
      ]
     },
     "execution_count": 2,
     "metadata": {},
     "output_type": "execute_result"
    }
   ],
   "source": [
    "df = pd.read_csv('bjjheroes_matches.csv', index_col = 0)\n",
    "def make_binary(string):\n",
    "    if string == 'W':\n",
    "        return 1\n",
    "    else:\n",
    "        return 0\n",
    "df['outcome_binary'] = df['outcome'].apply(make_binary)\n",
    "\n",
    "df.head()\n"
   ]
  },
  {
   "cell_type": "markdown",
   "metadata": {},
   "source": [
    "This will make calculating win percentages easy, as I only have to take the mean of any given fighters outcome_binary. I'll group them by name and take the mean of their outcome binaries."
   ]
  },
  {
   "cell_type": "code",
   "execution_count": 3,
   "metadata": {},
   "outputs": [
    {
     "data": {
      "text/plain": [
       "name\n",
       "AJ Agazarm              0.608466\n",
       "AJ Sousa                0.674419\n",
       "Aaron Johnson           0.546218\n",
       "Abdurakhman Bilarov     0.687500\n",
       "Abraham Marte           0.615385\n",
       "                          ...   \n",
       "Yago de Souza           0.808511\n",
       "Yan “Pica-Pau” Lucas    0.705263\n",
       "Ygor Rodrigues          0.722222\n",
       "Yuri Simões             0.777778\n",
       "Yuta Shimada            0.756098\n",
       "Name: outcome_binary, Length: 417, dtype: float64"
      ]
     },
     "execution_count": 3,
     "metadata": {},
     "output_type": "execute_result"
    }
   ],
   "source": [
    "win_rates = df.groupby(['name'])['outcome_binary'].mean()\n",
    "win_rates"
   ]
  },
  {
   "cell_type": "markdown",
   "metadata": {},
   "source": [
    "I have win_percentages as a series, but I want it to be part of a new dataframe so that I can store more stats and compare them more easily.\n"
   ]
  },
  {
   "cell_type": "code",
   "execution_count": 5,
   "metadata": {},
   "outputs": [
    {
     "data": {
      "text/html": [
       "<div>\n",
       "<style scoped>\n",
       "    .dataframe tbody tr th:only-of-type {\n",
       "        vertical-align: middle;\n",
       "    }\n",
       "\n",
       "    .dataframe tbody tr th {\n",
       "        vertical-align: top;\n",
       "    }\n",
       "\n",
       "    .dataframe thead th {\n",
       "        text-align: right;\n",
       "    }\n",
       "</style>\n",
       "<table border=\"1\" class=\"dataframe\">\n",
       "  <thead>\n",
       "    <tr style=\"text-align: right;\">\n",
       "      <th></th>\n",
       "      <th>name</th>\n",
       "      <th>win_rate</th>\n",
       "    </tr>\n",
       "  </thead>\n",
       "  <tbody>\n",
       "    <tr>\n",
       "      <th>0</th>\n",
       "      <td>AJ Agazarm</td>\n",
       "      <td>0.608466</td>\n",
       "    </tr>\n",
       "    <tr>\n",
       "      <th>1</th>\n",
       "      <td>AJ Sousa</td>\n",
       "      <td>0.674419</td>\n",
       "    </tr>\n",
       "    <tr>\n",
       "      <th>2</th>\n",
       "      <td>Aaron Johnson</td>\n",
       "      <td>0.546218</td>\n",
       "    </tr>\n",
       "    <tr>\n",
       "      <th>3</th>\n",
       "      <td>Abdurakhman Bilarov</td>\n",
       "      <td>0.687500</td>\n",
       "    </tr>\n",
       "    <tr>\n",
       "      <th>4</th>\n",
       "      <td>Abraham Marte</td>\n",
       "      <td>0.615385</td>\n",
       "    </tr>\n",
       "  </tbody>\n",
       "</table>\n",
       "</div>"
      ],
      "text/plain": [
       "                  name  win_rate\n",
       "0           AJ Agazarm  0.608466\n",
       "1             AJ Sousa  0.674419\n",
       "2        Aaron Johnson  0.546218\n",
       "3  Abdurakhman Bilarov  0.687500\n",
       "4        Abraham Marte  0.615385"
      ]
     },
     "execution_count": 5,
     "metadata": {},
     "output_type": "execute_result"
    }
   ],
   "source": [
    "name_list = list(df.name.unique())\n",
    "name_list.sort() #the groupby method already sorted my win_percentages series, so I need to do the same for my name_list\n",
    "\n",
    "df_stats = pd.DataFrame({'name':name_list, 'win_rate':list(win_rates)})\n",
    "df_stats.head()"
   ]
  },
  {
   "cell_type": "code",
   "execution_count": null,
   "metadata": {},
   "outputs": [],
   "source": []
  }
 ],
 "metadata": {
  "kernelspec": {
   "display_name": "Python 3",
   "language": "python",
   "name": "python3"
  },
  "language_info": {
   "codemirror_mode": {
    "name": "ipython",
    "version": 3
   },
   "file_extension": ".py",
   "mimetype": "text/x-python",
   "name": "python",
   "nbconvert_exporter": "python",
   "pygments_lexer": "ipython3",
   "version": "3.7.6"
  }
 },
 "nbformat": 4,
 "nbformat_minor": 4
}
